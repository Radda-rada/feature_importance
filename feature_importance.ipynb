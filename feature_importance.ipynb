{
 "cells": [
  {
   "cell_type": "code",
   "execution_count": 1,
   "metadata": {},
   "outputs": [],
   "source": [
    "import pandas as pd\n",
    "import matplotlib.pyplot as plt\n",
    "import seaborn as sns\n",
    "import io\n",
    "import numpy as np\n",
    "from sklearn.preprocessing import Normalizer\n",
    "from sklearn.cluster import KMeans\n",
    "from sklearn.pipeline import make_pipeline\n",
    "from matplotlib import style\n",
    "style.use(\"ggplot\")\n",
    "from sklearn.cluster import KMeans\n",
    "from collections import Counter\n",
    "from mpl_toolkits.mplot3d import Axes3D\n",
    "from pylab import *"
   ]
  },
  {
   "cell_type": "code",
   "execution_count": 2,
   "metadata": {},
   "outputs": [
    {
     "data": {
      "text/html": [
       "<div>\n",
       "<style scoped>\n",
       "    .dataframe tbody tr th:only-of-type {\n",
       "        vertical-align: middle;\n",
       "    }\n",
       "\n",
       "    .dataframe tbody tr th {\n",
       "        vertical-align: top;\n",
       "    }\n",
       "\n",
       "    .dataframe thead th {\n",
       "        text-align: right;\n",
       "    }\n",
       "</style>\n",
       "<table border=\"1\" class=\"dataframe\">\n",
       "  <thead>\n",
       "    <tr style=\"text-align: right;\">\n",
       "      <th></th>\n",
       "      <th>Unnamed: 0</th>\n",
       "      <th>cluster</th>\n",
       "      <th>Weight_all</th>\n",
       "      <th>Level_of_conformity</th>\n",
       "      <th>Weight_the_best</th>\n",
       "      <th>Grade</th>\n",
       "      <th>Certification</th>\n",
       "      <th>Relaibility</th>\n",
       "      <th>Technology</th>\n",
       "      <th>Value</th>\n",
       "    </tr>\n",
       "  </thead>\n",
       "  <tbody>\n",
       "    <tr>\n",
       "      <th>0</th>\n",
       "      <td>0</td>\n",
       "      <td>1</td>\n",
       "      <td>0.218703</td>\n",
       "      <td>9</td>\n",
       "      <td>0.706252</td>\n",
       "      <td>0.484966</td>\n",
       "      <td>0.025441</td>\n",
       "      <td>0.286021</td>\n",
       "      <td>4</td>\n",
       "      <td>4</td>\n",
       "    </tr>\n",
       "    <tr>\n",
       "      <th>1</th>\n",
       "      <td>1</td>\n",
       "      <td>1</td>\n",
       "      <td>0.581985</td>\n",
       "      <td>8</td>\n",
       "      <td>0.335710</td>\n",
       "      <td>0.774199</td>\n",
       "      <td>0.516591</td>\n",
       "      <td>0.503509</td>\n",
       "      <td>6</td>\n",
       "      <td>3</td>\n",
       "    </tr>\n",
       "    <tr>\n",
       "      <th>2</th>\n",
       "      <td>2</td>\n",
       "      <td>1</td>\n",
       "      <td>0.801477</td>\n",
       "      <td>1</td>\n",
       "      <td>0.651839</td>\n",
       "      <td>0.442171</td>\n",
       "      <td>0.028034</td>\n",
       "      <td>0.800740</td>\n",
       "      <td>1</td>\n",
       "      <td>0</td>\n",
       "    </tr>\n",
       "  </tbody>\n",
       "</table>\n",
       "</div>"
      ],
      "text/plain": [
       "   Unnamed: 0  cluster  Weight_all  Level_of_conformity  Weight_the_best  \\\n",
       "0           0        1    0.218703                    9         0.706252   \n",
       "1           1        1    0.581985                    8         0.335710   \n",
       "2           2        1    0.801477                    1         0.651839   \n",
       "\n",
       "      Grade  Certification  Relaibility  Technology  Value  \n",
       "0  0.484966       0.025441     0.286021           4      4  \n",
       "1  0.774199       0.516591     0.503509           6      3  \n",
       "2  0.442171       0.028034     0.800740           1      0  "
      ]
     },
     "execution_count": 2,
     "metadata": {},
     "output_type": "execute_result"
    }
   ],
   "source": [
    "D_Tree_original_df = pd.read_csv('/Users/radda_iureva/Downloads/data_def2.csv')\n",
    "D_Tree_original_df.head(3)"
   ]
  },
  {
   "cell_type": "code",
   "execution_count": 3,
   "metadata": {},
   "outputs": [],
   "source": [
    "D_Tree_original_df.sort_values(by=['cluster'],inplace=True)\n",
    "D_Tree_original_df = D_Tree_original_df.reset_index(drop=True)"
   ]
  },
  {
   "cell_type": "code",
   "execution_count": 4,
   "metadata": {},
   "outputs": [],
   "source": [
    "D_Tree_df =  D_Tree_original_df.select_dtypes(include=[np.number])"
   ]
  },
  {
   "cell_type": "code",
   "execution_count": 5,
   "metadata": {},
   "outputs": [],
   "source": [
    "y = D_Tree_df.pop('cluster')\n",
    "x = D_Tree_df"
   ]
  },
  {
   "cell_type": "code",
   "execution_count": 6,
   "metadata": {},
   "outputs": [],
   "source": [
    "from sklearn.tree import DecisionTreeClassifier\n",
    "from sklearn import tree"
   ]
  },
  {
   "cell_type": "code",
   "execution_count": 7,
   "metadata": {},
   "outputs": [],
   "source": [
    "featureNames = D_Tree_df.columns.astype(str).to_list()\n",
    "classNames = [\",\".join(item) for item in y.astype(str)]"
   ]
  },
  {
   "cell_type": "code",
   "execution_count": 8,
   "metadata": {},
   "outputs": [
    {
     "data": {
      "text/plain": [
       "dict_keys(['y_0', 'y_1', 'y_2'])"
      ]
     },
     "execution_count": 8,
     "metadata": {},
     "output_type": "execute_result"
    }
   ],
   "source": [
    "y_s = {}\n",
    "for k in range(y.nunique()):\n",
    "    y_s[\"y_{0}\".format(k)] = y.apply(lambda y: 1 if y == k else 0)\n",
    "    \n",
    "y_s.keys()"
   ]
  },
  {
   "cell_type": "code",
   "execution_count": 9,
   "metadata": {},
   "outputs": [
    {
     "name": "stdout",
     "output_type": "stream",
     "text": [
      "\n",
      "Cluster_0 description:\n",
      "\n",
      "|--- Technology <= 6.50\n",
      "|   |--- Level_of_conformity <= 3.50\n",
      "|   |   |--- Value <= 2.50\n",
      "|   |   |   |--- class: 1\n",
      "|   |   |--- Value >  2.50\n",
      "|   |   |   |--- class: 0\n",
      "|   |--- Level_of_conformity >  3.50\n",
      "|   |   |--- Unnamed: 0 <= 288.00\n",
      "|   |   |   |--- class: 0\n",
      "|   |   |--- Unnamed: 0 >  288.00\n",
      "|   |   |   |--- class: 0\n",
      "|--- Technology >  6.50\n",
      "|   |--- Level_of_conformity <= 7.50\n",
      "|   |   |--- Level_of_conformity <= 6.50\n",
      "|   |   |   |--- class: 1\n",
      "|   |   |--- Level_of_conformity >  6.50\n",
      "|   |   |   |--- class: 1\n",
      "|   |--- Level_of_conformity >  7.50\n",
      "|   |   |--- Technology <= 10.50\n",
      "|   |   |   |--- class: 0\n",
      "|   |   |--- Technology >  10.50\n",
      "|   |   |   |--- class: 0\n",
      "\n",
      "               feature  importance\n",
      "7           Technology    0.478009\n",
      "2  Level_of_conformity    0.384561\n",
      "8                Value    0.135049\n",
      "0           Unnamed: 0    0.002380\n",
      "1           Weight_all    0.000000\n",
      "\n",
      "Cluster_1 description:\n",
      "\n",
      "|--- Level_of_conformity <= 3.50\n",
      "|   |--- Unnamed: 0 <= 7.00\n",
      "|   |   |--- class: 1\n",
      "|   |--- Unnamed: 0 >  7.00\n",
      "|   |   |--- Technology <= 3.50\n",
      "|   |   |   |--- class: 0\n",
      "|   |   |--- Technology >  3.50\n",
      "|   |   |   |--- class: 0\n",
      "|--- Level_of_conformity >  3.50\n",
      "|   |--- Technology <= 9.50\n",
      "|   |   |--- Level_of_conformity <= 6.50\n",
      "|   |   |   |--- class: 1\n",
      "|   |   |--- Level_of_conformity >  6.50\n",
      "|   |   |   |--- class: 1\n",
      "|   |--- Technology >  9.50\n",
      "|   |   |--- Level_of_conformity <= 9.50\n",
      "|   |   |   |--- class: 0\n",
      "|   |   |--- Level_of_conformity >  9.50\n",
      "|   |   |   |--- class: 1\n",
      "\n",
      "               feature  importance\n",
      "2  Level_of_conformity    0.707285\n",
      "7           Technology    0.276507\n",
      "0           Unnamed: 0    0.016208\n",
      "1           Weight_all    0.000000\n",
      "3      Weight_the_best    0.000000\n",
      "\n",
      "Cluster_2 description:\n",
      "\n",
      "|--- Level_of_conformity <= 3.50\n",
      "|   |--- Value <= 3.50\n",
      "|   |   |--- Technology <= 3.50\n",
      "|   |   |   |--- class: 0\n",
      "|   |   |--- Technology >  3.50\n",
      "|   |   |   |--- class: 0\n",
      "|   |--- Value >  3.50\n",
      "|   |   |--- Technology <= 6.50\n",
      "|   |   |   |--- class: 1\n",
      "|   |   |--- Technology >  6.50\n",
      "|   |   |   |--- class: 0\n",
      "|--- Level_of_conformity >  3.50\n",
      "|   |--- Weight_all <= 0.00\n",
      "|   |   |--- class: 1\n",
      "|   |--- Weight_all >  0.00\n",
      "|   |   |--- Certification <= 0.02\n",
      "|   |   |   |--- class: 0\n",
      "|   |   |--- Certification >  0.02\n",
      "|   |   |   |--- class: 0\n",
      "\n",
      "               feature  importance\n",
      "7           Technology    0.403632\n",
      "8                Value    0.339735\n",
      "2  Level_of_conformity    0.201013\n",
      "1           Weight_all    0.041959\n",
      "5        Certification    0.013661\n"
     ]
    }
   ],
   "source": [
    "model = DecisionTreeClassifier(max_depth=3, random_state=1234)\n",
    "\n",
    "for cluster, y in enumerate (y_s.values()):\n",
    "    \n",
    "    print(\"\\nCluster_{0} description:\\n\".format (cluster))\n",
    "    \n",
    "    model.fit(x, y)\n",
    "    print(tree.export_text(model, feature_names=featureNames))\n",
    "    \n",
    "    importance = \\\n",
    "    pd.DataFrame({'feature': list(x.columns),\n",
    "                 'importance': model.feature_importances_}).\\\n",
    "                 sort_values('importance', ascending = False)\n",
    "    print(importance.iloc[0:5])"
   ]
  },
  {
   "cell_type": "code",
   "execution_count": null,
   "metadata": {},
   "outputs": [],
   "source": []
  }
 ],
 "metadata": {
  "kernelspec": {
   "display_name": "Python 3",
   "language": "python",
   "name": "python3"
  },
  "language_info": {
   "codemirror_mode": {
    "name": "ipython",
    "version": 3
   },
   "file_extension": ".py",
   "mimetype": "text/x-python",
   "name": "python",
   "nbconvert_exporter": "python",
   "pygments_lexer": "ipython3",
   "version": "3.8.8"
  }
 },
 "nbformat": 4,
 "nbformat_minor": 4
}
